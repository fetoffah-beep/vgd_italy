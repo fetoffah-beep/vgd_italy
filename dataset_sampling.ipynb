{
 "cells": [
  {
   "cell_type": "markdown",
   "metadata": {},
   "source": [
    "Connected to spyder (Python 3.12.3)"
   ]
  },
  {
   "cell_type": "code",
   "execution_count": 1,
   "metadata": {},
   "outputs": [],
   "source": [
    "import numpy as np\n",
    "import os\n",
    "import xarray as xr"
   ]
  },
  {
   "cell_type": "code",
   "execution_count": 2,
   "id": "2a39f65b",
   "metadata": {},
   "outputs": [],
   "source": [
    "\n",
    "def load_data(path, default_crs=\"EPSG:4326\", target_crs=\"EPSG:3035\"):\n",
    "    ds = xr.open_dataset(path, \n",
    "                         engine=\"netcdf4\", drop_variables=[\"ssm_noise\", \"spatial_ref\", \"band\", \"crs\"])\n",
    "    \n",
    "    # ds = ds.chunk(1000)\n",
    "    \n",
    "    # # Only open a single file to avoid memory issues\n",
    "    # if not hasattr(ds, \"rio\") or not ds.rio.crs:\n",
    "    #     ds = ds.rio.write_crs(default_crs)\n",
    "    # # Reproject to target CRS\n",
    "    # # ds = ds.rio.reproject(target_crs)\n",
    "    crs = ds.rio.crs\n",
    "    return ds, crs"
   ]
  },
  {
   "cell_type": "code",
   "execution_count": null,
   "id": "85e13afe",
   "metadata": {},
   "outputs": [
    {
     "name": "stdout",
     "output_type": "stream",
     "text": [
      "C:\\Users\\gmfet\\vgd_italy\\data\\static\\bulk_density.nc\n"
     ]
    }
   ],
   "source": [
    "data_dir = r'C:\\Users\\gmfet\\vgd_italy\\data'\n",
    "\n",
    "\n",
    "\n",
    "# Load the static netcdf files (load only one file at a time to avoid MemoryError)\n",
    "static_files = sorted([os.path.join(data_dir, \"static\", f) \n",
    "                       for f in os.listdir(os.path.join(data_dir, \"static\")) \n",
    "                       if f.endswith(\".nc\")])"
   ]
  },
  {
   "cell_type": "code",
   "execution_count": 13,
   "id": "f0aefdd8",
   "metadata": {},
   "outputs": [
    {
     "name": "stderr",
     "output_type": "stream",
     "text": [
      "c:\\ProgramData\\anaconda3\\envs\\spyder\\Lib\\site-packages\\dask\\array\\core.py:5003: PerformanceWarning: Increasing number of chunks by factor of 118\n",
      "  result = blockwise(\n",
      "c:\\ProgramData\\anaconda3\\envs\\spyder\\Lib\\site-packages\\dask\\array\\core.py:5003: PerformanceWarning: Increasing number of chunks by factor of 118\n",
      "  result = blockwise(\n",
      "c:\\ProgramData\\anaconda3\\envs\\spyder\\Lib\\site-packages\\dask\\array\\core.py:5003: PerformanceWarning: Increasing number of chunks by factor of 62\n",
      "  result = blockwise(\n",
      "c:\\ProgramData\\anaconda3\\envs\\spyder\\Lib\\site-packages\\dask\\array\\core.py:5003: PerformanceWarning: Increasing number of chunks by factor of 41\n",
      "  result = blockwise(\n",
      "c:\\ProgramData\\anaconda3\\envs\\spyder\\Lib\\site-packages\\dask\\array\\core.py:5003: PerformanceWarning: Increasing number of chunks by factor of 46\n",
      "  result = blockwise(\n",
      "c:\\ProgramData\\anaconda3\\envs\\spyder\\Lib\\site-packages\\dask\\array\\core.py:5003: PerformanceWarning: Increasing number of chunks by factor of 41\n",
      "  result = blockwise(\n",
      "c:\\ProgramData\\anaconda3\\envs\\spyder\\Lib\\site-packages\\dask\\array\\core.py:5003: PerformanceWarning: Increasing number of chunks by factor of 238\n",
      "  result = blockwise(\n",
      "c:\\ProgramData\\anaconda3\\envs\\spyder\\Lib\\site-packages\\dask\\array\\core.py:5003: PerformanceWarning: Increasing number of chunks by factor of 118\n",
      "  result = blockwise(\n",
      "c:\\ProgramData\\anaconda3\\envs\\spyder\\Lib\\site-packages\\dask\\array\\core.py:5003: PerformanceWarning: Increasing number of chunks by factor of 118\n",
      "  result = blockwise(\n",
      "c:\\ProgramData\\anaconda3\\envs\\spyder\\Lib\\site-packages\\dask\\array\\core.py:5003: PerformanceWarning: Increasing number of chunks by factor of 115\n",
      "  result = blockwise(\n",
      "c:\\ProgramData\\anaconda3\\envs\\spyder\\Lib\\site-packages\\dask\\array\\core.py:5003: PerformanceWarning: Increasing number of chunks by factor of 118\n",
      "  result = blockwise(\n",
      "c:\\ProgramData\\anaconda3\\envs\\spyder\\Lib\\site-packages\\dask\\array\\core.py:5003: PerformanceWarning: Increasing number of chunks by factor of 62\n",
      "  result = blockwise(\n",
      "c:\\ProgramData\\anaconda3\\envs\\spyder\\Lib\\site-packages\\dask\\array\\core.py:5003: PerformanceWarning: Increasing number of chunks by factor of 118\n",
      "  result = blockwise(\n",
      "c:\\ProgramData\\anaconda3\\envs\\spyder\\Lib\\site-packages\\dask\\array\\core.py:5003: PerformanceWarning: Increasing number of chunks by factor of 118\n",
      "  result = blockwise(\n",
      "c:\\ProgramData\\anaconda3\\envs\\spyder\\Lib\\site-packages\\dask\\array\\core.py:5003: PerformanceWarning: Increasing number of chunks by factor of 118\n",
      "  result = blockwise(\n"
     ]
    }
   ],
   "source": [
    "with xr.open_mfdataset(static_files, combine=\"by_coords\", engine=\"netcdf4\", \n",
    "                         drop_variables=[\"ssm_noise\", \"spatial_ref\", \"band\", \"crs\"]) as ds:\n",
    "    static = ds.unify_chunks()\n",
    "    # static = static.load()"
   ]
  },
  {
   "cell_type": "code",
   "execution_count": 8,
   "id": "25ce6ded",
   "metadata": {},
   "outputs": [
    {
     "ename": "MemoryError",
     "evalue": "Unable to allocate 104. GiB for an array with shape (1, 330298, 338574) and data type bool",
     "output_type": "error",
     "traceback": [
      "\u001b[1;31m---------------------------------------------------------------------------\u001b[0m",
      "\u001b[1;31mMemoryError\u001b[0m                               Traceback (most recent call last)",
      "Cell \u001b[1;32mIn[8], line 9\u001b[0m\n\u001b[0;32m      6\u001b[0m         static_crs\u001b[38;5;241m.\u001b[39mappend(crs)\n\u001b[0;32m      8\u001b[0m \u001b[38;5;66;03m# merge along variable dimension\u001b[39;00m\n\u001b[1;32m----> 9\u001b[0m static \u001b[38;5;241m=\u001b[39m \u001b[43mxr\u001b[49m\u001b[38;5;241;43m.\u001b[39;49m\u001b[43mmerge\u001b[49m\u001b[43m(\u001b[49m\u001b[43mstatic_datasets\u001b[49m\u001b[43m)\u001b[49m\n",
      "File \u001b[1;32mc:\\ProgramData\\anaconda3\\envs\\spyder\\Lib\\site-packages\\xarray\\structure\\merge.py:977\u001b[0m, in \u001b[0;36mmerge\u001b[1;34m(objects, compat, join, fill_value, combine_attrs)\u001b[0m\n\u001b[0;32m    974\u001b[0m         obj \u001b[38;5;241m=\u001b[39m obj\u001b[38;5;241m.\u001b[39mto_dataset()\n\u001b[0;32m    975\u001b[0m     dict_like_objects\u001b[38;5;241m.\u001b[39mappend(obj)\n\u001b[1;32m--> 977\u001b[0m merge_result \u001b[38;5;241m=\u001b[39m \u001b[43mmerge_core\u001b[49m\u001b[43m(\u001b[49m\n\u001b[0;32m    978\u001b[0m \u001b[43m    \u001b[49m\u001b[43mdict_like_objects\u001b[49m\u001b[43m,\u001b[49m\n\u001b[0;32m    979\u001b[0m \u001b[43m    \u001b[49m\u001b[43mcompat\u001b[49m\u001b[43m,\u001b[49m\n\u001b[0;32m    980\u001b[0m \u001b[43m    \u001b[49m\u001b[43mjoin\u001b[49m\u001b[43m,\u001b[49m\n\u001b[0;32m    981\u001b[0m \u001b[43m    \u001b[49m\u001b[43mcombine_attrs\u001b[49m\u001b[38;5;241;43m=\u001b[39;49m\u001b[43mcombine_attrs\u001b[49m\u001b[43m,\u001b[49m\n\u001b[0;32m    982\u001b[0m \u001b[43m    \u001b[49m\u001b[43mfill_value\u001b[49m\u001b[38;5;241;43m=\u001b[39;49m\u001b[43mfill_value\u001b[49m\u001b[43m,\u001b[49m\n\u001b[0;32m    983\u001b[0m \u001b[43m\u001b[49m\u001b[43m)\u001b[49m\n\u001b[0;32m    984\u001b[0m \u001b[38;5;28;01mreturn\u001b[39;00m Dataset\u001b[38;5;241m.\u001b[39m_construct_direct(\u001b[38;5;241m*\u001b[39m\u001b[38;5;241m*\u001b[39mmerge_result\u001b[38;5;241m.\u001b[39m_asdict())\n",
      "File \u001b[1;32mc:\\ProgramData\\anaconda3\\envs\\spyder\\Lib\\site-packages\\xarray\\structure\\merge.py:693\u001b[0m, in \u001b[0;36mmerge_core\u001b[1;34m(objects, compat, join, combine_attrs, priority_arg, explicit_coords, indexes, fill_value, skip_align_args)\u001b[0m\n\u001b[0;32m    690\u001b[0m skip_align_objs \u001b[38;5;241m=\u001b[39m [(pos, objects\u001b[38;5;241m.\u001b[39mpop(pos)) \u001b[38;5;28;01mfor\u001b[39;00m pos \u001b[38;5;129;01min\u001b[39;00m skip_align_args]\n\u001b[0;32m    692\u001b[0m coerced \u001b[38;5;241m=\u001b[39m coerce_pandas_values(objects)\n\u001b[1;32m--> 693\u001b[0m aligned \u001b[38;5;241m=\u001b[39m \u001b[43mdeep_align\u001b[49m\u001b[43m(\u001b[49m\n\u001b[0;32m    694\u001b[0m \u001b[43m    \u001b[49m\u001b[43mcoerced\u001b[49m\u001b[43m,\u001b[49m\u001b[43m \u001b[49m\u001b[43mjoin\u001b[49m\u001b[38;5;241;43m=\u001b[39;49m\u001b[43mjoin\u001b[49m\u001b[43m,\u001b[49m\u001b[43m \u001b[49m\u001b[43mcopy\u001b[49m\u001b[38;5;241;43m=\u001b[39;49m\u001b[38;5;28;43;01mFalse\u001b[39;49;00m\u001b[43m,\u001b[49m\u001b[43m \u001b[49m\u001b[43mindexes\u001b[49m\u001b[38;5;241;43m=\u001b[39;49m\u001b[43mindexes\u001b[49m\u001b[43m,\u001b[49m\u001b[43m \u001b[49m\u001b[43mfill_value\u001b[49m\u001b[38;5;241;43m=\u001b[39;49m\u001b[43mfill_value\u001b[49m\n\u001b[0;32m    695\u001b[0m \u001b[43m\u001b[49m\u001b[43m)\u001b[49m\n\u001b[0;32m    697\u001b[0m \u001b[38;5;28;01mfor\u001b[39;00m pos, obj \u001b[38;5;129;01min\u001b[39;00m skip_align_objs:\n\u001b[0;32m    698\u001b[0m     aligned\u001b[38;5;241m.\u001b[39minsert(pos, obj)\n",
      "File \u001b[1;32mc:\\ProgramData\\anaconda3\\envs\\spyder\\Lib\\site-packages\\xarray\\structure\\alignment.py:931\u001b[0m, in \u001b[0;36mdeep_align\u001b[1;34m(objects, join, copy, indexes, exclude, raise_on_invalid, fill_value)\u001b[0m\n\u001b[0;32m    928\u001b[0m     \u001b[38;5;28;01melse\u001b[39;00m:\n\u001b[0;32m    929\u001b[0m         out\u001b[38;5;241m.\u001b[39mappend(variables)\n\u001b[1;32m--> 931\u001b[0m aligned \u001b[38;5;241m=\u001b[39m \u001b[43malign\u001b[49m\u001b[43m(\u001b[49m\n\u001b[0;32m    932\u001b[0m \u001b[43m    \u001b[49m\u001b[38;5;241;43m*\u001b[39;49m\u001b[43mtargets\u001b[49m\u001b[43m,\u001b[49m\n\u001b[0;32m    933\u001b[0m \u001b[43m    \u001b[49m\u001b[43mjoin\u001b[49m\u001b[38;5;241;43m=\u001b[39;49m\u001b[43mjoin\u001b[49m\u001b[43m,\u001b[49m\n\u001b[0;32m    934\u001b[0m \u001b[43m    \u001b[49m\u001b[43mcopy\u001b[49m\u001b[38;5;241;43m=\u001b[39;49m\u001b[43mcopy\u001b[49m\u001b[43m,\u001b[49m\n\u001b[0;32m    935\u001b[0m \u001b[43m    \u001b[49m\u001b[43mindexes\u001b[49m\u001b[38;5;241;43m=\u001b[39;49m\u001b[43mindexes\u001b[49m\u001b[43m,\u001b[49m\n\u001b[0;32m    936\u001b[0m \u001b[43m    \u001b[49m\u001b[43mexclude\u001b[49m\u001b[38;5;241;43m=\u001b[39;49m\u001b[43mexclude\u001b[49m\u001b[43m,\u001b[49m\n\u001b[0;32m    937\u001b[0m \u001b[43m    \u001b[49m\u001b[43mfill_value\u001b[49m\u001b[38;5;241;43m=\u001b[39;49m\u001b[43mfill_value\u001b[49m\u001b[43m,\u001b[49m\n\u001b[0;32m    938\u001b[0m \u001b[43m\u001b[49m\u001b[43m)\u001b[49m\n\u001b[0;32m    940\u001b[0m \u001b[38;5;28;01mfor\u001b[39;00m position, key, aligned_obj \u001b[38;5;129;01min\u001b[39;00m \u001b[38;5;28mzip\u001b[39m(positions, keys, aligned, strict\u001b[38;5;241m=\u001b[39m\u001b[38;5;28;01mTrue\u001b[39;00m):\n\u001b[0;32m    941\u001b[0m     \u001b[38;5;28;01mif\u001b[39;00m key \u001b[38;5;129;01mis\u001b[39;00m no_key:\n",
      "File \u001b[1;32mc:\\ProgramData\\anaconda3\\envs\\spyder\\Lib\\site-packages\\xarray\\structure\\alignment.py:867\u001b[0m, in \u001b[0;36malign\u001b[1;34m(join, copy, indexes, exclude, fill_value, *objects)\u001b[0m\n\u001b[0;32m    671\u001b[0m \u001b[38;5;250m\u001b[39m\u001b[38;5;124;03m\"\"\"\u001b[39;00m\n\u001b[0;32m    672\u001b[0m \u001b[38;5;124;03mGiven any number of Dataset and/or DataArray objects, returns new\u001b[39;00m\n\u001b[0;32m    673\u001b[0m \u001b[38;5;124;03mobjects with aligned indexes and dimension sizes.\u001b[39;00m\n\u001b[1;32m   (...)\u001b[0m\n\u001b[0;32m    857\u001b[0m \n\u001b[0;32m    858\u001b[0m \u001b[38;5;124;03m\"\"\"\u001b[39;00m\n\u001b[0;32m    859\u001b[0m aligner \u001b[38;5;241m=\u001b[39m Aligner(\n\u001b[0;32m    860\u001b[0m     objects,\n\u001b[0;32m    861\u001b[0m     join\u001b[38;5;241m=\u001b[39mjoin,\n\u001b[1;32m   (...)\u001b[0m\n\u001b[0;32m    865\u001b[0m     fill_value\u001b[38;5;241m=\u001b[39mfill_value,\n\u001b[0;32m    866\u001b[0m )\n\u001b[1;32m--> 867\u001b[0m \u001b[43maligner\u001b[49m\u001b[38;5;241;43m.\u001b[39;49m\u001b[43malign\u001b[49m\u001b[43m(\u001b[49m\u001b[43m)\u001b[49m\n\u001b[0;32m    868\u001b[0m \u001b[38;5;28;01mreturn\u001b[39;00m aligner\u001b[38;5;241m.\u001b[39mresults\n",
      "File \u001b[1;32mc:\\ProgramData\\anaconda3\\envs\\spyder\\Lib\\site-packages\\xarray\\structure\\alignment.py:567\u001b[0m, in \u001b[0;36mAligner.align\u001b[1;34m(self)\u001b[0m\n\u001b[0;32m    565\u001b[0m     \u001b[38;5;28mself\u001b[39m\u001b[38;5;241m.\u001b[39mresults \u001b[38;5;241m=\u001b[39m \u001b[38;5;28mself\u001b[39m\u001b[38;5;241m.\u001b[39mobjects\n\u001b[0;32m    566\u001b[0m \u001b[38;5;28;01melse\u001b[39;00m:\n\u001b[1;32m--> 567\u001b[0m     \u001b[38;5;28;43mself\u001b[39;49m\u001b[38;5;241;43m.\u001b[39;49m\u001b[43mreindex_all\u001b[49m\u001b[43m(\u001b[49m\u001b[43m)\u001b[49m\n",
      "File \u001b[1;32mc:\\ProgramData\\anaconda3\\envs\\spyder\\Lib\\site-packages\\xarray\\structure\\alignment.py:543\u001b[0m, in \u001b[0;36mAligner.reindex_all\u001b[1;34m(self)\u001b[0m\n\u001b[0;32m    542\u001b[0m \u001b[38;5;28;01mdef\u001b[39;00m\u001b[38;5;250m \u001b[39m\u001b[38;5;21mreindex_all\u001b[39m(\u001b[38;5;28mself\u001b[39m) \u001b[38;5;241m-\u001b[39m\u001b[38;5;241m>\u001b[39m \u001b[38;5;28;01mNone\u001b[39;00m:\n\u001b[1;32m--> 543\u001b[0m     \u001b[38;5;28mself\u001b[39m\u001b[38;5;241m.\u001b[39mresults \u001b[38;5;241m=\u001b[39m \u001b[38;5;28;43mtuple\u001b[39;49m\u001b[43m(\u001b[49m\n\u001b[0;32m    544\u001b[0m \u001b[43m        \u001b[49m\u001b[38;5;28;43mself\u001b[39;49m\u001b[38;5;241;43m.\u001b[39;49m\u001b[43m_reindex_one\u001b[49m\u001b[43m(\u001b[49m\u001b[43mobj\u001b[49m\u001b[43m,\u001b[49m\u001b[43m \u001b[49m\u001b[43mmatching_indexes\u001b[49m\u001b[43m)\u001b[49m\n\u001b[0;32m    545\u001b[0m \u001b[43m        \u001b[49m\u001b[38;5;28;43;01mfor\u001b[39;49;00m\u001b[43m \u001b[49m\u001b[43mobj\u001b[49m\u001b[43m,\u001b[49m\u001b[43m \u001b[49m\u001b[43mmatching_indexes\u001b[49m\u001b[43m \u001b[49m\u001b[38;5;129;43;01min\u001b[39;49;00m\u001b[43m \u001b[49m\u001b[38;5;28;43mzip\u001b[39;49m\u001b[43m(\u001b[49m\n\u001b[0;32m    546\u001b[0m \u001b[43m            \u001b[49m\u001b[38;5;28;43mself\u001b[39;49m\u001b[38;5;241;43m.\u001b[39;49m\u001b[43mobjects\u001b[49m\u001b[43m,\u001b[49m\u001b[43m \u001b[49m\u001b[38;5;28;43mself\u001b[39;49m\u001b[38;5;241;43m.\u001b[39;49m\u001b[43mobjects_matching_indexes\u001b[49m\u001b[43m,\u001b[49m\u001b[43m \u001b[49m\u001b[43mstrict\u001b[49m\u001b[38;5;241;43m=\u001b[39;49m\u001b[38;5;28;43;01mTrue\u001b[39;49;00m\n\u001b[0;32m    547\u001b[0m \u001b[43m        \u001b[49m\u001b[43m)\u001b[49m\n\u001b[0;32m    548\u001b[0m \u001b[43m    \u001b[49m\u001b[43m)\u001b[49m\n",
      "File \u001b[1;32mc:\\ProgramData\\anaconda3\\envs\\spyder\\Lib\\site-packages\\xarray\\structure\\alignment.py:544\u001b[0m, in \u001b[0;36m<genexpr>\u001b[1;34m(.0)\u001b[0m\n\u001b[0;32m    542\u001b[0m \u001b[38;5;28;01mdef\u001b[39;00m\u001b[38;5;250m \u001b[39m\u001b[38;5;21mreindex_all\u001b[39m(\u001b[38;5;28mself\u001b[39m) \u001b[38;5;241m-\u001b[39m\u001b[38;5;241m>\u001b[39m \u001b[38;5;28;01mNone\u001b[39;00m:\n\u001b[0;32m    543\u001b[0m     \u001b[38;5;28mself\u001b[39m\u001b[38;5;241m.\u001b[39mresults \u001b[38;5;241m=\u001b[39m \u001b[38;5;28mtuple\u001b[39m(\n\u001b[1;32m--> 544\u001b[0m         \u001b[38;5;28;43mself\u001b[39;49m\u001b[38;5;241;43m.\u001b[39;49m\u001b[43m_reindex_one\u001b[49m\u001b[43m(\u001b[49m\u001b[43mobj\u001b[49m\u001b[43m,\u001b[49m\u001b[43m \u001b[49m\u001b[43mmatching_indexes\u001b[49m\u001b[43m)\u001b[49m\n\u001b[0;32m    545\u001b[0m         \u001b[38;5;28;01mfor\u001b[39;00m obj, matching_indexes \u001b[38;5;129;01min\u001b[39;00m \u001b[38;5;28mzip\u001b[39m(\n\u001b[0;32m    546\u001b[0m             \u001b[38;5;28mself\u001b[39m\u001b[38;5;241m.\u001b[39mobjects, \u001b[38;5;28mself\u001b[39m\u001b[38;5;241m.\u001b[39mobjects_matching_indexes, strict\u001b[38;5;241m=\u001b[39m\u001b[38;5;28;01mTrue\u001b[39;00m\n\u001b[0;32m    547\u001b[0m         )\n\u001b[0;32m    548\u001b[0m     )\n",
      "File \u001b[1;32mc:\\ProgramData\\anaconda3\\envs\\spyder\\Lib\\site-packages\\xarray\\structure\\alignment.py:532\u001b[0m, in \u001b[0;36mAligner._reindex_one\u001b[1;34m(self, obj, matching_indexes)\u001b[0m\n\u001b[0;32m    529\u001b[0m new_indexes, new_variables \u001b[38;5;241m=\u001b[39m \u001b[38;5;28mself\u001b[39m\u001b[38;5;241m.\u001b[39m_get_indexes_and_vars(obj, matching_indexes)\n\u001b[0;32m    530\u001b[0m dim_pos_indexers \u001b[38;5;241m=\u001b[39m \u001b[38;5;28mself\u001b[39m\u001b[38;5;241m.\u001b[39m_get_dim_pos_indexers(matching_indexes)\n\u001b[1;32m--> 532\u001b[0m \u001b[38;5;28;01mreturn\u001b[39;00m \u001b[43mobj\u001b[49m\u001b[38;5;241;43m.\u001b[39;49m\u001b[43m_reindex_callback\u001b[49m\u001b[43m(\u001b[49m\n\u001b[0;32m    533\u001b[0m \u001b[43m    \u001b[49m\u001b[38;5;28;43mself\u001b[39;49m\u001b[43m,\u001b[49m\n\u001b[0;32m    534\u001b[0m \u001b[43m    \u001b[49m\u001b[43mdim_pos_indexers\u001b[49m\u001b[43m,\u001b[49m\n\u001b[0;32m    535\u001b[0m \u001b[43m    \u001b[49m\u001b[43mnew_variables\u001b[49m\u001b[43m,\u001b[49m\n\u001b[0;32m    536\u001b[0m \u001b[43m    \u001b[49m\u001b[43mnew_indexes\u001b[49m\u001b[43m,\u001b[49m\n\u001b[0;32m    537\u001b[0m \u001b[43m    \u001b[49m\u001b[38;5;28;43mself\u001b[39;49m\u001b[38;5;241;43m.\u001b[39;49m\u001b[43mfill_value\u001b[49m\u001b[43m,\u001b[49m\n\u001b[0;32m    538\u001b[0m \u001b[43m    \u001b[49m\u001b[38;5;28;43mself\u001b[39;49m\u001b[38;5;241;43m.\u001b[39;49m\u001b[43mexclude_dims\u001b[49m\u001b[43m,\u001b[49m\n\u001b[0;32m    539\u001b[0m \u001b[43m    \u001b[49m\u001b[38;5;28;43mself\u001b[39;49m\u001b[38;5;241;43m.\u001b[39;49m\u001b[43mexclude_vars\u001b[49m\u001b[43m,\u001b[49m\n\u001b[0;32m    540\u001b[0m \u001b[43m\u001b[49m\u001b[43m)\u001b[49m\n",
      "File \u001b[1;32mc:\\ProgramData\\anaconda3\\envs\\spyder\\Lib\\site-packages\\xarray\\core\\dataset.py:3277\u001b[0m, in \u001b[0;36mDataset._reindex_callback\u001b[1;34m(self, aligner, dim_pos_indexers, variables, indexes, fill_value, exclude_dims, exclude_vars)\u001b[0m\n\u001b[0;32m   3271\u001b[0m \u001b[38;5;28;01melse\u001b[39;00m:\n\u001b[0;32m   3272\u001b[0m     to_reindex \u001b[38;5;241m=\u001b[39m {\n\u001b[0;32m   3273\u001b[0m         k: v\n\u001b[0;32m   3274\u001b[0m         \u001b[38;5;28;01mfor\u001b[39;00m k, v \u001b[38;5;129;01min\u001b[39;00m \u001b[38;5;28mself\u001b[39m\u001b[38;5;241m.\u001b[39mvariables\u001b[38;5;241m.\u001b[39mitems()\n\u001b[0;32m   3275\u001b[0m         \u001b[38;5;28;01mif\u001b[39;00m k \u001b[38;5;129;01mnot\u001b[39;00m \u001b[38;5;129;01min\u001b[39;00m variables \u001b[38;5;129;01mand\u001b[39;00m k \u001b[38;5;129;01mnot\u001b[39;00m \u001b[38;5;129;01min\u001b[39;00m exclude_vars\n\u001b[0;32m   3276\u001b[0m     }\n\u001b[1;32m-> 3277\u001b[0m     reindexed_vars \u001b[38;5;241m=\u001b[39m \u001b[43malignment\u001b[49m\u001b[38;5;241;43m.\u001b[39;49m\u001b[43mreindex_variables\u001b[49m\u001b[43m(\u001b[49m\n\u001b[0;32m   3278\u001b[0m \u001b[43m        \u001b[49m\u001b[43mto_reindex\u001b[49m\u001b[43m,\u001b[49m\n\u001b[0;32m   3279\u001b[0m \u001b[43m        \u001b[49m\u001b[43mdim_pos_indexers\u001b[49m\u001b[43m,\u001b[49m\n\u001b[0;32m   3280\u001b[0m \u001b[43m        \u001b[49m\u001b[43mcopy\u001b[49m\u001b[38;5;241;43m=\u001b[39;49m\u001b[43maligner\u001b[49m\u001b[38;5;241;43m.\u001b[39;49m\u001b[43mcopy\u001b[49m\u001b[43m,\u001b[49m\n\u001b[0;32m   3281\u001b[0m \u001b[43m        \u001b[49m\u001b[43mfill_value\u001b[49m\u001b[38;5;241;43m=\u001b[39;49m\u001b[43mfill_value\u001b[49m\u001b[43m,\u001b[49m\n\u001b[0;32m   3282\u001b[0m \u001b[43m        \u001b[49m\u001b[43msparse\u001b[49m\u001b[38;5;241;43m=\u001b[39;49m\u001b[43maligner\u001b[49m\u001b[38;5;241;43m.\u001b[39;49m\u001b[43msparse\u001b[49m\u001b[43m,\u001b[49m\n\u001b[0;32m   3283\u001b[0m \u001b[43m    \u001b[49m\u001b[43m)\u001b[49m\n\u001b[0;32m   3284\u001b[0m     new_variables\u001b[38;5;241m.\u001b[39mupdate(reindexed_vars)\n\u001b[0;32m   3285\u001b[0m     new_coord_names \u001b[38;5;241m=\u001b[39m \u001b[38;5;28mself\u001b[39m\u001b[38;5;241m.\u001b[39m_coord_names \u001b[38;5;241m|\u001b[39m \u001b[38;5;28mset\u001b[39m(new_indexes)\n",
      "File \u001b[1;32mc:\\ProgramData\\anaconda3\\envs\\spyder\\Lib\\site-packages\\xarray\\structure\\alignment.py:83\u001b[0m, in \u001b[0;36mreindex_variables\u001b[1;34m(variables, dim_pos_indexers, copy, fill_value, sparse)\u001b[0m\n\u001b[0;32m     80\u001b[0m needs_masking \u001b[38;5;241m=\u001b[39m \u001b[38;5;28many\u001b[39m(d \u001b[38;5;129;01min\u001b[39;00m masked_dims \u001b[38;5;28;01mfor\u001b[39;00m d \u001b[38;5;129;01min\u001b[39;00m var\u001b[38;5;241m.\u001b[39mdims)\n\u001b[0;32m     82\u001b[0m \u001b[38;5;28;01mif\u001b[39;00m needs_masking:\n\u001b[1;32m---> 83\u001b[0m     new_var \u001b[38;5;241m=\u001b[39m \u001b[43mvar\u001b[49m\u001b[38;5;241;43m.\u001b[39;49m\u001b[43m_getitem_with_mask\u001b[49m\u001b[43m(\u001b[49m\u001b[43mindxr\u001b[49m\u001b[43m,\u001b[49m\u001b[43m \u001b[49m\u001b[43mfill_value\u001b[49m\u001b[38;5;241;43m=\u001b[39;49m\u001b[43mfill_value_\u001b[49m\u001b[43m)\u001b[49m\n\u001b[0;32m     84\u001b[0m \u001b[38;5;28;01melif\u001b[39;00m \u001b[38;5;28mall\u001b[39m(is_full_slice(k) \u001b[38;5;28;01mfor\u001b[39;00m k \u001b[38;5;129;01min\u001b[39;00m indxr):\n\u001b[0;32m     85\u001b[0m     \u001b[38;5;66;03m# no reindexing necessary\u001b[39;00m\n\u001b[0;32m     86\u001b[0m     \u001b[38;5;66;03m# here we need to manually deal with copying data, since\u001b[39;00m\n\u001b[0;32m     87\u001b[0m     \u001b[38;5;66;03m# we neither created a new ndarray nor used fancy indexing\u001b[39;00m\n\u001b[0;32m     88\u001b[0m     new_var \u001b[38;5;241m=\u001b[39m var\u001b[38;5;241m.\u001b[39mcopy(deep\u001b[38;5;241m=\u001b[39mcopy)\n",
      "File \u001b[1;32mc:\\ProgramData\\anaconda3\\envs\\spyder\\Lib\\site-packages\\xarray\\core\\variable.py:814\u001b[0m, in \u001b[0;36mVariable._getitem_with_mask\u001b[1;34m(self, key, fill_value)\u001b[0m\n\u001b[0;32m    811\u001b[0m indexable \u001b[38;5;241m=\u001b[39m as_indexable(\u001b[38;5;28mself\u001b[39m\u001b[38;5;241m.\u001b[39m_data)\n\u001b[0;32m    812\u001b[0m data \u001b[38;5;241m=\u001b[39m indexing\u001b[38;5;241m.\u001b[39mapply_indexer(indexable, actual_indexer)\n\u001b[1;32m--> 814\u001b[0m mask \u001b[38;5;241m=\u001b[39m \u001b[43mindexing\u001b[49m\u001b[38;5;241;43m.\u001b[39;49m\u001b[43mcreate_mask\u001b[49m\u001b[43m(\u001b[49m\u001b[43mindexer\u001b[49m\u001b[43m,\u001b[49m\u001b[43m \u001b[49m\u001b[38;5;28;43mself\u001b[39;49m\u001b[38;5;241;43m.\u001b[39;49m\u001b[43mshape\u001b[49m\u001b[43m,\u001b[49m\u001b[43m \u001b[49m\u001b[43mdata\u001b[49m\u001b[43m)\u001b[49m\n\u001b[0;32m    815\u001b[0m \u001b[38;5;66;03m# we need to invert the mask in order to pass data first. This helps\u001b[39;00m\n\u001b[0;32m    816\u001b[0m \u001b[38;5;66;03m# pint to choose the correct unit\u001b[39;00m\n\u001b[0;32m    817\u001b[0m \u001b[38;5;66;03m# TODO: revert after https://github.com/hgrecco/pint/issues/1019 is fixed\u001b[39;00m\n\u001b[0;32m    818\u001b[0m mask \u001b[38;5;241m=\u001b[39m to_like_array(mask, data)\n",
      "File \u001b[1;32mc:\\ProgramData\\anaconda3\\envs\\spyder\\Lib\\site-packages\\xarray\\core\\indexing.py:1431\u001b[0m, in \u001b[0;36mcreate_mask\u001b[1;34m(indexer, shape, data)\u001b[0m\n\u001b[0;32m   1429\u001b[0m     key \u001b[38;5;241m=\u001b[39m _outer_to_vectorized_indexer(indexer, shape)\u001b[38;5;241m.\u001b[39mtuple\n\u001b[0;32m   1430\u001b[0m     \u001b[38;5;28;01massert\u001b[39;00m \u001b[38;5;129;01mnot\u001b[39;00m \u001b[38;5;28many\u001b[39m(\u001b[38;5;28misinstance\u001b[39m(k, \u001b[38;5;28mslice\u001b[39m) \u001b[38;5;28;01mfor\u001b[39;00m k \u001b[38;5;129;01min\u001b[39;00m key)\n\u001b[1;32m-> 1431\u001b[0m     mask \u001b[38;5;241m=\u001b[39m \u001b[43m_masked_result_drop_slice\u001b[49m\u001b[43m(\u001b[49m\u001b[43mkey\u001b[49m\u001b[43m,\u001b[49m\u001b[43m \u001b[49m\u001b[43mdata\u001b[49m\u001b[43m)\u001b[49m\n\u001b[0;32m   1433\u001b[0m \u001b[38;5;28;01melif\u001b[39;00m \u001b[38;5;28misinstance\u001b[39m(indexer, VectorizedIndexer):\n\u001b[0;32m   1434\u001b[0m     key \u001b[38;5;241m=\u001b[39m indexer\u001b[38;5;241m.\u001b[39mtuple\n",
      "File \u001b[1;32mc:\\ProgramData\\anaconda3\\envs\\spyder\\Lib\\site-packages\\xarray\\core\\indexing.py:1402\u001b[0m, in \u001b[0;36m_masked_result_drop_slice\u001b[1;34m(key, data)\u001b[0m\n\u001b[0;32m   1399\u001b[0m     \u001b[38;5;28;01melse\u001b[39;00m:\n\u001b[0;32m   1400\u001b[0m         new_keys\u001b[38;5;241m.\u001b[39mappend(k)\n\u001b[1;32m-> 1402\u001b[0m mask \u001b[38;5;241m=\u001b[39m \u001b[43m_logical_any\u001b[49m\u001b[43m(\u001b[49m\u001b[43mk\u001b[49m\u001b[43m \u001b[49m\u001b[38;5;241;43m==\u001b[39;49m\u001b[43m \u001b[49m\u001b[38;5;241;43m-\u001b[39;49m\u001b[38;5;241;43m1\u001b[39;49m\u001b[43m \u001b[49m\u001b[38;5;28;43;01mfor\u001b[39;49;00m\u001b[43m \u001b[49m\u001b[43mk\u001b[49m\u001b[43m \u001b[49m\u001b[38;5;129;43;01min\u001b[39;49;00m\u001b[43m \u001b[49m\u001b[43mnew_keys\u001b[49m\u001b[43m)\u001b[49m\n\u001b[0;32m   1403\u001b[0m \u001b[38;5;28;01mreturn\u001b[39;00m mask\n",
      "File \u001b[1;32mc:\\ProgramData\\anaconda3\\envs\\spyder\\Lib\\site-packages\\xarray\\core\\indexing.py:1378\u001b[0m, in \u001b[0;36m_logical_any\u001b[1;34m(args)\u001b[0m\n\u001b[0;32m   1377\u001b[0m \u001b[38;5;28;01mdef\u001b[39;00m\u001b[38;5;250m \u001b[39m\u001b[38;5;21m_logical_any\u001b[39m(args):\n\u001b[1;32m-> 1378\u001b[0m     \u001b[38;5;28;01mreturn\u001b[39;00m \u001b[43mfunctools\u001b[49m\u001b[38;5;241;43m.\u001b[39;49m\u001b[43mreduce\u001b[49m\u001b[43m(\u001b[49m\u001b[43moperator\u001b[49m\u001b[38;5;241;43m.\u001b[39;49m\u001b[43mor_\u001b[49m\u001b[43m,\u001b[49m\u001b[43m \u001b[49m\u001b[43margs\u001b[49m\u001b[43m)\u001b[49m\n",
      "\u001b[1;31mMemoryError\u001b[0m: Unable to allocate 104. GiB for an array with shape (1, 330298, 338574) and data type bool"
     ]
    }
   ],
   "source": [
    "if static_files:\n",
    "    static_datasets, static_crs = [], []\n",
    "    for f in static_files:\n",
    "        ds, crs = load_data(f)\n",
    "        static_datasets.append(ds)\n",
    "        static_crs.append(crs)\n",
    "\n",
    "# merge along variable dimension\n",
    "static = xr.merge(static_datasets)\n",
    "#     self.static = static_datasets\n",
    "# else:\n",
    "#     self.static = None\n",
    "    \n",
    "# self.static_crs = static_crs\n",
    "    \n",
    "    \n",
    "\n",
    "# # Load the dynamic netcdf files (load only one file at a time to avoid MemoryError)\n",
    "# dynamic_files = sorted([os.path.join(self.data_dir, \"dynamic\", f) for f in os.listdir(os.path.join(self.data_dir, \"dynamic\")) if f.endswith(\".nc\")])\n",
    "\n",
    "# if dynamic_files:\n",
    "#     dynamic_datasets, dynamic_crs = [], []\n",
    "#     for f in dynamic_files:\n",
    "#         ds, crs = self.load_data(f)\n",
    "#         dynamic_datasets.append(ds)\n",
    "#         dynamic_crs.append(crs)\n",
    "\n",
    "#     # self.dynamic = xr.merge(dynamic_datasets)\n",
    "#     self.dynamic = dynamic_datasets\n",
    "# else:\n",
    "#     self.dynamic = None\n",
    "    \n",
    "# self.dynamic_crs=dynamic_crs"
   ]
  },
  {
   "cell_type": "code",
   "execution_count": null,
   "id": "36e2ab80",
   "metadata": {},
   "outputs": [],
   "source": []
  }
 ],
 "metadata": {
  "kernelspec": {
   "display_name": "spyder",
   "language": "python",
   "name": "python3"
  },
  "language_info": {
   "codemirror_mode": {
    "name": "ipython",
    "version": 3
   },
   "file_extension": ".py",
   "mimetype": "text/x-python",
   "name": "python",
   "nbconvert_exporter": "python",
   "pygments_lexer": "ipython3",
   "version": "3.12.3"
  }
 },
 "nbformat": 4,
 "nbformat_minor": 5
}
