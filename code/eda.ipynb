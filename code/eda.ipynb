{
 "cells": [
  {
   "cell_type": "code",
   "execution_count": null,
   "metadata": {},
   "outputs": [],
   "source": [
    "import os\n",
    "import xarray as xr\n",
    "import numpy as np\n",
    "import torch\n",
    "import pandas as pd\n",
    "import matplotlib.pyplot as plt\n",
    "from src.utils.utils import tif2dataset"
   ]
  },
  {
   "cell_type": "code",
   "execution_count": null,
   "metadata": {},
   "outputs": [],
   "source": [
    "# data_path = \"../data/raw/clipped_EGMS_L3_E41N19_100km_U_2018_2022_1.csv\"\n",
    "data_path = \"data/raw/\"\n",
    "\n",
    "datasets = []\n",
    "\n",
    "for file_name in os.listdir(data_path):\n",
    "    file_path = os.path.join(data_path, file_name)\n",
    "\n",
    "    if file_name.endswith('.tif'):\n",
    "        try:\n",
    "            ds = tif2dataset(file_path)\n",
    "            datasets.append(ds)\n",
    "        except NotImplementedError:\n",
    "            print(f\"Skipping {file_name} due to missing implementation.\")\n",
    "    elif file_name.endswith('.csv'):\n",
    "        df = pd.read_csv(file_path)\n",
    "        ds = xr.Dataset.from_dataframe(df)  \n",
    "        datasets.append(ds)\n",
    "    elif file_name.endswith('.nc'):\n",
    "        ds = xr.open_dataset(file_path)\n",
    "        datasets.append(ds)\n",
    "    else:\n",
    "        print(f\"Skipping unsupported file format: {file_name}\")\n",
    "\n",
    "\n",
    "if datasets:\n",
    "    try:\n",
    "        combined_dataset = xr.concat(datasets, dim=\"new_dim\")  # Use a new dimension for concatenation\n",
    "    except Exception as e:\n",
    "        print(\"Error during concatenation:\", e)\n",
    "else:\n",
    "    print(\"No valid datasets found.\")\n",
    "\n",
    "\n",
    "\n",
    "# df = pd.read_csv(data_path)\n",
    "# disp_col = df.columns[2:]\n",
    "# df['mean_disp']=df[disp_col].mean(axis=1)"
   ]
  },
  {
   "cell_type": "code",
   "execution_count": null,
   "metadata": {
    "scrolled": true
   },
   "outputs": [],
   "source": [
    "scatter = plt.scatter(df['easting'], df['northing'], c=df['mean_disp'], cmap='viridis')"
   ]
  },
  {
   "cell_type": "code",
   "execution_count": null,
   "metadata": {},
   "outputs": [],
   "source": []
  }
 ],
 "metadata": {
  "kernelspec": {
   "display_name": "Python 3",
   "language": "python",
   "name": "python3"
  },
  "language_info": {
   "codemirror_mode": {
    "name": "ipython",
    "version": 3
   },
   "file_extension": ".py",
   "mimetype": "text/x-python",
   "name": "python",
   "nbconvert_exporter": "python",
   "pygments_lexer": "ipython3",
   "version": "3.7.6"
  }
 },
 "nbformat": 4,
 "nbformat_minor": 2
}
